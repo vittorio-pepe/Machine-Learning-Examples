{
 "cells": [
  {
   "cell_type": "markdown",
   "metadata": {},
   "source": [
    "# Convolutional Neural Networks\n",
    "\n",
    "In this study, we are interested in evaluating the performance of a Convolutional Neural Network using different hyperparameters. The goal is to build a model that can recognize the content of an image, in this particular case, recognize if the image processed is of a cat or a dog. Six models will be tested and confronted. Hyperparameters that will be taken into consideration are the number of layers, the number of nodes per layer and the number of epoch. Images of size 64x64 and 128x128 will be tested. Four different combinations of layers and  number of nodes will be tested; then, the best one will be applied to the 128x128 images. The last model will be modified to add more pooling layers and dropout layers to decrease overfitting and improve the score. The number of nodes per layer Only grayscale image will be used since the hardware used had difficulties in handling larger files.\n",
    "The results will be evaluated using the Kaggle score in the Cats vs Dog competition too."
   ]
  },
  {
   "cell_type": "markdown",
   "metadata": {},
   "source": [
    "## Import packages"
   ]
  },
  {
   "cell_type": "code",
   "execution_count": 1,
   "metadata": {},
   "outputs": [
    {
     "name": "stdout",
     "output_type": "stream",
     "text": [
      "WARNING:tensorflow:From /Users/vittoriopro/opt/anaconda3/envs/tensorflow_cpu_1/lib/python3.6/site-packages/tflearn/helpers/summarizer.py:9: The name tf.summary.merge is deprecated. Please use tf.compat.v1.summary.merge instead.\n",
      "\n",
      "WARNING:tensorflow:From /Users/vittoriopro/opt/anaconda3/envs/tensorflow_cpu_1/lib/python3.6/site-packages/tflearn/helpers/trainer.py:25: The name tf.summary.FileWriter is deprecated. Please use tf.compat.v1.summary.FileWriter instead.\n",
      "\n",
      "WARNING:tensorflow:From /Users/vittoriopro/opt/anaconda3/envs/tensorflow_cpu_1/lib/python3.6/site-packages/tflearn/collections.py:13: The name tf.GraphKeys is deprecated. Please use tf.compat.v1.GraphKeys instead.\n",
      "\n",
      "WARNING:tensorflow:From /Users/vittoriopro/opt/anaconda3/envs/tensorflow_cpu_1/lib/python3.6/site-packages/tflearn/config.py:123: The name tf.get_collection is deprecated. Please use tf.compat.v1.get_collection instead.\n",
      "\n",
      "WARNING:tensorflow:From /Users/vittoriopro/opt/anaconda3/envs/tensorflow_cpu_1/lib/python3.6/site-packages/tflearn/config.py:129: The name tf.add_to_collection is deprecated. Please use tf.compat.v1.add_to_collection instead.\n",
      "\n",
      "WARNING:tensorflow:From /Users/vittoriopro/opt/anaconda3/envs/tensorflow_cpu_1/lib/python3.6/site-packages/tflearn/config.py:131: The name tf.assign is deprecated. Please use tf.compat.v1.assign instead.\n",
      "\n",
      "WARNING:tensorflow:From /Users/vittoriopro/opt/anaconda3/envs/tensorflow_cpu_1/lib/python3.6/site-packages/tensorflow_core/python/compat/v2_compat.py:68: disable_resource_variables (from tensorflow.python.ops.variable_scope) is deprecated and will be removed in a future version.\n",
      "Instructions for updating:\n",
      "non-resource variables are not supported in the long term\n"
     ]
    }
   ],
   "source": [
    "import os\n",
    "import time\n",
    "import cv2\n",
    "import pandas as pd\n",
    "import numpy as np\n",
    "#import matplotlib.pyplot as plt\n",
    "\n",
    "from random import shuffle\n",
    "from tqdm import tqdm\n",
    "#import tensorflow.compat.v1 as tf\n",
    "#tf.disable_v2_behavior() \n",
    "import tensorflow as tf\n",
    "import tflearn\n",
    "import sys\n",
    "import matplotlib.pyplot as plt\n",
    "\n",
    "from tflearn.layers.conv import conv_2d, max_pool_2d\n",
    "from tflearn.layers.core import input_data, dropout, fully_connected\n",
    "from tflearn.layers.estimator import regression\n",
    "\n",
    "# suppress warning messages\n",
    "def warn(*args, **kwargs): \n",
    "    pass\n",
    "import warnings \n",
    "warnings.warn = warn\n",
    "\n",
    "tf.disable_v2_behavior() \n",
    "RANDOM_SEED=1234\n"
   ]
  },
  {
   "cell_type": "code",
   "execution_count": 2,
   "metadata": {},
   "outputs": [],
   "source": [
    "def label_image(img):\n",
    "    world_label = img.split('.')[0]\n",
    "    if world_label == \"dog\": return [1, 0]\n",
    "    elif world_label == 'cat': return [0, 1]\n",
    "    \n",
    "    \n",
    "def create_training_data():\n",
    "    training_data = []\n",
    "    for img in tqdm(os.listdir(TRAIN_DIR)):\n",
    "        label = label_image(img)\n",
    "        path = os.path.join(TRAIN_DIR, img)\n",
    "        img = cv2.resize(cv2.imread(path, cv2.IMREAD_GRAYSCALE), (IMG_SIZE, IMG_SIZE))\n",
    "        img = img / 255\n",
    "        training_data.append([np.array(img), np.array(label)])\n",
    "    shuffle(training_data)\n",
    "    np.save(\"training_data.npy\", training_data)\n",
    "    return training_data\n",
    "        \n",
    "def process_test_data():\n",
    "    testing_data = []\n",
    "    for img in tqdm(os.listdir(TEST_DIR)):\n",
    "        path = os.path.join(TEST_DIR, img)\n",
    "        img_num = img.split('.')[0]\n",
    "        img = cv2.resize(cv2.imread(path, cv2.IMREAD_GRAYSCALE), (IMG_SIZE, IMG_SIZE))\n",
    "        img = img / 255\n",
    "        testing_data.append([np.array(img), np.array(img_num)])\n",
    "#   np.save(\"testing_data.npy\", testing_data)\n",
    "    return testing_data  \n",
    "\n",
    "def show_grayscale_image(image):\n",
    "    plt.imshow(image, cmap = 'gray') \n",
    "    plt.axis('off')\n",
    "    plt.show()"
   ]
  },
  {
   "cell_type": "markdown",
   "metadata": {},
   "source": [
    "## Data preparation for the model\n",
    "\n",
    "The training data consist in 25.000 labeled images of cats and dogs, while the testing data contain 12.500 not labeled mixed pictures of cats and dogs."
   ]
  },
  {
   "cell_type": "code",
   "execution_count": 3,
   "metadata": {},
   "outputs": [
    {
     "data": {
      "text/plain": [
       "'/Users/vittoriopro/Documents/AI/MSDS/422/Module7/Assignment7'"
      ]
     },
     "execution_count": 3,
     "metadata": {},
     "output_type": "execute_result"
    }
   ],
   "source": [
    "os.getcwd()"
   ]
  },
  {
   "cell_type": "code",
   "execution_count": 4,
   "metadata": {},
   "outputs": [
    {
     "name": "stderr",
     "output_type": "stream",
     "text": [
      "100%|██████████| 25000/25000 [01:25<00:00, 292.94it/s]\n"
     ]
    }
   ],
   "source": [
    "TRAIN_DIR = './data/train/'\n",
    "TEST_DIR = './data/test/'\n",
    "IMG_SIZE = 64\n",
    "\n",
    "training_data = create_training_data()\n",
    "#training_data = np.load('training_data.npy')"
   ]
  },
  {
   "cell_type": "code",
   "execution_count": 5,
   "metadata": {},
   "outputs": [
    {
     "name": "stderr",
     "output_type": "stream",
     "text": [
      "100%|██████████| 12500/12500 [00:38<00:00, 322.96it/s]\n"
     ]
    }
   ],
   "source": [
    "test_data = process_test_data()"
   ]
  },
  {
   "cell_type": "code",
   "execution_count": 6,
   "metadata": {},
   "outputs": [
    {
     "data": {
      "text/plain": [
       "<matplotlib.image.AxesImage at 0x1a70bb60b8>"
      ]
     },
     "execution_count": 6,
     "metadata": {},
     "output_type": "execute_result"
    },
    {
     "data": {
      "image/png": "[encoded data removed]",
      "text/plain": [
       "<Figure size 432x288 with 1 Axes>"
      ]
     },
     "metadata": {
      "needs_background": "light"
     },
     "output_type": "display_data"
    }
   ],
   "source": [
    "fig=plt.figure()\n",
    "\n",
    "image1 = training_data[1]\n",
    "\n",
    "\n",
    "plt.imshow(image1[0],cmap='gray')\n"
   ]
  },
  {
   "cell_type": "code",
   "execution_count": 7,
   "metadata": {},
   "outputs": [],
   "source": [
    "# Initialize metrics\n",
    "metrics = {}\n",
    "# Initialize metric names\n",
    "names = ['Model number', 'Nodes per Layer', 'Time in Seconds', 'Validation accuracy']\n",
    "\n",
    "TRAIN_SIZE = 25000\n",
    "VAL_SIZE = 2500\n",
    "#TEST_SIZE = 5000\n",
    "\n",
    "# Set fixed parameters for models\n",
    "LR = 0.001\n",
    "\n"
   ]
  },
  {
   "cell_type": "code",
   "execution_count": 8,
   "metadata": {},
   "outputs": [],
   "source": [
    "N_EPOCH = 10"
   ]
  },
  {
   "cell_type": "markdown",
   "metadata": {},
   "source": [
    "## Model 1\n",
    "\n",
    "In this model, we will use 3 hidden layers composed of 64 nodes each, with a pooling layer for each of them. Than 2 fully connected layers, the first one followed by a dropout layer. The accuracy of the training and validation set are displayed, along with the total execution time. The resulting prediction is stored in a CSV file to be uploaded in Kaggle for testing. The number of epoch tested is 10."
   ]
  },
  {
   "cell_type": "code",
   "execution_count": 9,
   "metadata": {},
   "outputs": [
    {
     "name": "stdout",
     "output_type": "stream",
     "text": [
      "Training Step: 3519  | total loss: \u001b[1m\u001b[32m0.11502\u001b[0m\u001b[0m | time: 83.625s\n",
      "| Adam | epoch: 010 | loss: 0.11502 - acc: 0.9756 -- iter: 22464/22500\n",
      "Training Step: 3520  | total loss: \u001b[1m\u001b[32m0.10789\u001b[0m\u001b[0m | time: 85.868s\n",
      "| Adam | epoch: 010 | loss: 0.10789 - acc: 0.9780 | val_loss: 0.54677 - val_acc: 0.8248 -- iter: 22500/22500\n",
      "--\n",
      "Duration in minutes: 45.08\n",
      "Validation accuracy : [0.8248000001907348]\n"
     ]
    }
   ],
   "source": [
    "###### Model 1\n",
    "print('Model 1')\n",
    "\n",
    "# Reset the session\n",
    "tf.reset_default_graph()\n",
    "tf.set_random_seed(RANDOM_SEED)\n",
    "np.random.seed(RANDOM_SEED)\n",
    "\n",
    "MODEL_NAME = \"Model1{}-{}.model\".format(LR, '3conv')\n",
    "\n",
    "# Start timer\n",
    "start = time.clock()\n",
    "\n",
    "\n",
    "convnet = input_data(shape=[None, IMG_SIZE, IMG_SIZE, 1], name='input')\n",
    "\n",
    "convnet = conv_2d(convnet, 64, 2, activation='relu')\n",
    "convnet = max_pool_2d(convnet, 2)\n",
    "\n",
    "convnet = conv_2d(convnet, 64, 2, activation='relu')\n",
    "convnet = max_pool_2d(convnet, 2)\n",
    "\n",
    "convnet = conv_2d(convnet, 64, 2, activation='relu')\n",
    "convnet = max_pool_2d(convnet, 2)\n",
    "\n",
    "convnet = fully_connected(convnet, 1024, activation='relu')\n",
    "convnet = dropout(convnet, 0.8)\n",
    "\n",
    "convnet = fully_connected(convnet, 2, activation='softmax')\n",
    "convnet = regression(convnet, optimizer='adam', learning_rate=LR, loss='categorical_crossentropy', name='targets')\n",
    "\n",
    "model = tflearn.DNN(convnet, tensorboard_dir='log') \n",
    "\n",
    "# train = training_data[: -5000]\n",
    "# val = training_data[-5000:]\n",
    "# test = training_data\n",
    "\n",
    "train = training_data[:(TRAIN_SIZE-VAL_SIZE)]\n",
    "train2 = training_data[:TRAIN_SIZE]\n",
    "val = train2[-VAL_SIZE:]\n",
    "#test = training_data[-TEST_SIZE:]\n",
    "\n",
    "\n",
    "X = np.array([i[0] for i in train]).reshape(-1, IMG_SIZE, IMG_SIZE, 1)\n",
    "Y = np.array([i[1] for i in train])\n",
    "x_val = np.array([i[0] for i in val]).reshape(-1, IMG_SIZE, IMG_SIZE, 1)\n",
    "y_val = np.array([i[1] for i in val])\n",
    "\n",
    "#X_test = np.array([i[0] for i in test]).reshape(-1, IMG_SIZE, IMG_SIZE, 1)\n",
    "#y_test = np.array([i[1] for i in test])\n",
    "\n",
    "print(len(X), len(Y), len(x_val), len(y_val))\n",
    "print(np.shape(X), len(Y), len(x_val), len(y_val))\n",
    "\n",
    "\n",
    "    \n",
    "model.fit({'input': X}, {'targets': Y}, n_epoch=N_EPOCH, validation_set=({'input': x_val}, {'targets': y_val}), \n",
    "    snapshot_step=500, show_metric=True, run_id=MODEL_NAME)\n",
    "\n",
    "# Record the clock time it takes\n",
    "duration = round((time.clock() - start ) / 60, 2)\n",
    "print('Duration in minutes:', duration)\n",
    "\n",
    "acc_val  = model.evaluate(x_val, y_val)\n",
    "print('Validation accuracy :', acc_val)\n",
    "#acc_test  = model.evaluate(X_test, y_test)\n",
    "\n",
    "metrics['Model 1 64x64'] = [N_EPOCH,'3 layers, 64 nodes flat', duration, acc_val]\n",
    "\n"
   ]
  },
  {
   "cell_type": "markdown",
   "metadata": {},
   "source": [
    "The predictions are calculated for this model and saved in csv file for submission in Kaggle."
   ]
  },
  {
   "cell_type": "code",
   "execution_count": 10,
   "metadata": {},
   "outputs": [
    {
     "name": "stdout",
     "output_type": "stream",
     "text": [
      "write 0 line\n",
      "write 1000 line\n",
      "write 2000 line\n",
      "write 3000 line\n",
      "write 4000 line\n",
      "write 5000 line\n",
      "write 6000 line\n",
      "write 7000 line\n",
      "write 8000 line\n",
      "write 9000 line\n",
      "write 10000 line\n",
      "write 11000 line\n",
      "write 12000 line\n",
      "done\n"
     ]
    }
   ],
   "source": [
    "\n",
    "\n",
    "with open(\"Subm-Model1.csv\",'w') as f:\n",
    "    f.write('id,label\\n')\n",
    "with open(\"Subm-Model1.csv\",'a') as f:\n",
    "    for num, data in enumerate(test_data):\n",
    "        if num%1000 == 0: print('write {} line'.format(num))\n",
    "        img_num = data[1]\n",
    "        img_data = data[0]\n",
    "        orig = img_data\n",
    "        data = img_data.reshape(IMG_SIZE, IMG_SIZE,1)\n",
    "        model_out = model.predict([data])[0]\n",
    "        f.write('{},{}\\n'.format(img_num, model_out[0]))\n",
    "print('done')"
   ]
  },
  {
   "cell_type": "markdown",
   "metadata": {},
   "source": [
    "## Model 2\n",
    "\n",
    "In this model, we will use 6 hidden layers composed of 32, 64, 128, 128, 64, 32 nodes. The rest of the structure remains unchanged from the previous model. The accuracy of the training and validation set are displayed, along with the total execution time. The resulting prediction is stored in a CSV file to be uploaded in Kaggle for testing."
   ]
  },
  {
   "cell_type": "code",
   "execution_count": 11,
   "metadata": {},
   "outputs": [
    {
     "name": "stdout",
     "output_type": "stream",
     "text": [
      "Training Step: 3519  | total loss: \u001b[1m\u001b[32m0.15228\u001b[0m\u001b[0m | time: 64.236s\n",
      "| Adam | epoch: 010 | loss: 0.15228 - acc: 0.9488 -- iter: 22464/22500\n",
      "Training Step: 3520  | total loss: \u001b[1m\u001b[32m0.14639\u001b[0m\u001b[0m | time: 66.014s\n",
      "| Adam | epoch: 010 | loss: 0.14639 - acc: 0.9508 | val_loss: 0.49634 - val_acc: 0.8180 -- iter: 22500/22500\n",
      "--\n",
      "Duration in minutes: 34.51\n",
      "Validation accuracy : [0.8179999999046326]\n"
     ]
    }
   ],
   "source": [
    "###### Model 2\n",
    "print('Model 2')\n",
    "\n",
    "# Reset the session\n",
    "tf.reset_default_graph()\n",
    "tf.set_random_seed(RANDOM_SEED)\n",
    "np.random.seed(RANDOM_SEED)\n",
    "\n",
    "MODEL_NAME = \"Model2{}-{}.model\".format(LR, '6conv')\n",
    "\n",
    "# Start timer\n",
    "start = time.clock()\n",
    "\n",
    "convnet = input_data(shape=[None, IMG_SIZE, IMG_SIZE, 1], name='input')\n",
    "\n",
    "convnet = conv_2d(convnet, 32, 2, activation='relu')\n",
    "convnet = max_pool_2d(convnet, 2)\n",
    "\n",
    "convnet = conv_2d(convnet, 64, 2, activation='relu')\n",
    "convnet = max_pool_2d(convnet, 2)\n",
    "\n",
    "convnet = conv_2d(convnet, 128, 2, activation='relu')\n",
    "convnet = max_pool_2d(convnet, 2)\n",
    "\n",
    "convnet = conv_2d(convnet, 128, 2, activation='relu')\n",
    "convnet = max_pool_2d(convnet, 2)\n",
    "\n",
    "convnet = conv_2d(convnet, 64, 2, activation='relu')\n",
    "convnet = max_pool_2d(convnet, 2)\n",
    "\n",
    "convnet = conv_2d(convnet, 32, 2, activation='relu')\n",
    "convnet = max_pool_2d(convnet, 2)\n",
    "\n",
    "convnet = fully_connected(convnet, 1024, activation='relu')\n",
    "convnet = dropout(convnet, 0.8)\n",
    "\n",
    "convnet = fully_connected(convnet, 2, activation='softmax')\n",
    "convnet = regression(convnet, optimizer='adam', learning_rate=LR, loss='categorical_crossentropy', name='targets')\n",
    "\n",
    "model = tflearn.DNN(convnet, tensorboard_dir='log') \n",
    "\n",
    "train = training_data[:(TRAIN_SIZE-VAL_SIZE)]\n",
    "train2 = training_data[:TRAIN_SIZE]\n",
    "val = train2[-VAL_SIZE:]\n",
    "#test = training_data[-TEST_SIZE:]\n",
    "\n",
    "\n",
    "X = np.array([i[0] for i in train]).reshape(-1, IMG_SIZE, IMG_SIZE, 1)\n",
    "Y = np.array([i[1] for i in train])\n",
    "x_val = np.array([i[0] for i in val]).reshape(-1, IMG_SIZE, IMG_SIZE, 1)\n",
    "y_val = np.array([i[1] for i in val])\n",
    "\n",
    "#X_test = np.array([i[0] for i in test]).reshape(-1, IMG_SIZE, IMG_SIZE, 1)\n",
    "#y_test = np.array([i[1] for i in test])\n",
    "\n",
    "print(len(X), len(Y), len(x_val), len(y_val))\n",
    "print(np.shape(X), len(Y), len(x_val), len(y_val))\n",
    "\n",
    "\n",
    "    \n",
    "model.fit({'input': X}, {'targets': Y}, n_epoch=N_EPOCH, validation_set=({'input': x_val}, {'targets': y_val}), \n",
    "    snapshot_step=500, show_metric=True, run_id=MODEL_NAME)\n",
    "\n",
    "# Record the clock time it takes\n",
    "duration = round((time.clock() - start ) / 60, 2)\n",
    "print('Duration in minutes:', duration)\n",
    "\n",
    "acc_val  = model.evaluate(x_val, y_val)\n",
    "print('Validation accuracy :', acc_val)\n",
    "\n",
    "#acc_test  = model.evaluate(X_test, y_test)\n",
    "\n",
    "\n",
    "metrics['Model 2 64x64'] = [N_EPOCH,'6 layers, pyramid', duration, acc_val]"
   ]
  },
  {
   "cell_type": "markdown",
   "metadata": {},
   "source": [
    "The prediction are calculated for this model and saved in csv file for submission in Kaggle."
   ]
  },
  {
   "cell_type": "code",
   "execution_count": 12,
   "metadata": {},
   "outputs": [
    {
     "name": "stdout",
     "output_type": "stream",
     "text": [
      "write 0 line\n",
      "write 1000 line\n",
      "write 2000 line\n",
      "write 3000 line\n",
      "write 4000 line\n",
      "write 5000 line\n",
      "write 6000 line\n",
      "write 7000 line\n",
      "write 8000 line\n",
      "write 9000 line\n",
      "write 10000 line\n",
      "write 11000 line\n",
      "write 12000 line\n",
      "done\n"
     ]
    }
   ],
   "source": [
    "with open(\"Subm-Model2.csv\",'w') as f:\n",
    "    f.write('id,label\\n')\n",
    "with open(\"Subm-Model2.csv\",'a') as f:\n",
    "    for num, data in enumerate(test_data):\n",
    "        if num%1000 == 0: print('write {} line'.format(num))\n",
    "        img_num = data[1]\n",
    "        img_data = data[0]\n",
    "        orig = img_data\n",
    "        data = img_data.reshape(IMG_SIZE, IMG_SIZE,1)\n",
    "        model_out = model.predict([data])[0]\n",
    "        f.write('{},{}\\n'.format(img_num, model_out[0]))\n",
    "print('done')"
   ]
  },
  {
   "cell_type": "markdown",
   "metadata": {},
   "source": [
    "## Model 3\n",
    "\n",
    "In this model, we will use 6 hidden layers composed of 32 nodes each. The rest of the structure remains unchanged from the previous model. The accuracy of the training and validation set are displayed, along with the total execution time. The resulting prediction is stored in a CSV file to be uploaded in Kaggle for testing."
   ]
  },
  {
   "cell_type": "code",
   "execution_count": 13,
   "metadata": {},
   "outputs": [
    {
     "name": "stdout",
     "output_type": "stream",
     "text": [
      "Training Step: 3519  | total loss: \u001b[1m\u001b[32m0.41548\u001b[0m\u001b[0m | time: 41.538s\n",
      "| Adam | epoch: 010 | loss: 0.41548 - acc: 0.8113 -- iter: 22464/22500\n",
      "Training Step: 3520  | total loss: \u001b[1m\u001b[32m0.43188\u001b[0m\u001b[0m | time: 42.697s\n",
      "| Adam | epoch: 010 | loss: 0.43188 - acc: 0.8052 | val_loss: 0.43214 - val_acc: 0.7940 -- iter: 22500/22500\n",
      "--\n",
      "Duration in minutes: 21.17\n",
      "Validation accuracy : [0.7939999996185303]\n"
     ]
    }
   ],
   "source": [
    "###### Model 3\n",
    "print('Model 3')\n",
    "\n",
    "# Reset the session\n",
    "tf.reset_default_graph()\n",
    "tf.set_random_seed(RANDOM_SEED)\n",
    "np.random.seed(RANDOM_SEED)\n",
    "\n",
    "MODEL_NAME = \"Model3{}-{}.model\".format(LR, '7conv')\n",
    "\n",
    "# Start timer\n",
    "start = time.clock()\n",
    "\n",
    "convnet = input_data(shape=[None, IMG_SIZE, IMG_SIZE, 1], name='input')\n",
    "\n",
    "convnet = conv_2d(convnet, 32, 2, activation='relu')\n",
    "convnet = max_pool_2d(convnet, 2)\n",
    "\n",
    "convnet = conv_2d(convnet, 32, 2, activation='relu')\n",
    "convnet = max_pool_2d(convnet, 2)\n",
    "\n",
    "convnet = conv_2d(convnet, 32, 2, activation='relu')\n",
    "convnet = max_pool_2d(convnet, 2)\n",
    "\n",
    "convnet = conv_2d(convnet, 32, 2, activation='relu')\n",
    "convnet = max_pool_2d(convnet, 2)\n",
    "\n",
    "convnet = conv_2d(convnet, 32, 2, activation='relu')\n",
    "convnet = max_pool_2d(convnet, 2)\n",
    "\n",
    "convnet = conv_2d(convnet, 32, 2, activation='relu')\n",
    "convnet = max_pool_2d(convnet, 2)\n",
    "\n",
    "convnet = fully_connected(convnet, 1024, activation='relu')\n",
    "convnet = dropout(convnet, 0.8)\n",
    "\n",
    "convnet = fully_connected(convnet, 2, activation='softmax')\n",
    "convnet = regression(convnet, optimizer='adam', learning_rate=LR, loss='categorical_crossentropy', name='targets')\n",
    "\n",
    "model = tflearn.DNN(convnet, tensorboard_dir='log') \n",
    "\n",
    "train = training_data[:(TRAIN_SIZE-VAL_SIZE)]\n",
    "train2 = training_data[:TRAIN_SIZE]\n",
    "val = train2[-VAL_SIZE:]\n",
    "#test = training_data[-TEST_SIZE:]\n",
    "\n",
    "\n",
    "X = np.array([i[0] for i in train]).reshape(-1, IMG_SIZE, IMG_SIZE, 1)\n",
    "Y = np.array([i[1] for i in train])\n",
    "x_val = np.array([i[0] for i in val]).reshape(-1, IMG_SIZE, IMG_SIZE, 1)\n",
    "y_val = np.array([i[1] for i in val])\n",
    "\n",
    "# X_test = np.array([i[0] for i in test]).reshape(-1, IMG_SIZE, IMG_SIZE, 1)\n",
    "# y_test = np.array([i[1] for i in test])\n",
    "\n",
    "\n",
    "    \n",
    "model.fit({'input': X}, {'targets': Y}, n_epoch=N_EPOCH, validation_set=({'input': x_val}, {'targets': y_val}), \n",
    "    snapshot_step=500, show_metric=True, run_id=MODEL_NAME)\n",
    "\n",
    "# Record the clock time it takes\n",
    "duration = round((time.clock() - start ) / 60, 2)\n",
    "print('Duration in minutes:', duration)\n",
    "\n",
    "acc_val  = model.evaluate(x_val, y_val)\n",
    "print('Validation accuracy :', acc_val)\n",
    "\n",
    "# acc_test  = model.evaluate(X_test, y_test)\n",
    "\n",
    "metrics['Model 3 64x64'] = [N_EPOCH,'6 layers, 32 nodes flat', duration, acc_val]"
   ]
  },
  {
   "cell_type": "code",
   "execution_count": 14,
   "metadata": {
    "scrolled": true
   },
   "outputs": [
    {
     "name": "stdout",
     "output_type": "stream",
     "text": [
      "write 0 line\n",
      "write 1000 line\n",
      "write 2000 line\n",
      "write 3000 line\n",
      "write 4000 line\n",
      "write 5000 line\n",
      "write 6000 line\n",
      "write 7000 line\n",
      "write 8000 line\n",
      "write 9000 line\n",
      "write 10000 line\n",
      "write 11000 line\n",
      "write 12000 line\n",
      "done\n"
     ]
    }
   ],
   "source": [
    "with open(\"Subm-Model3.csv\",'w') as f:\n",
    "    f.write('id,label\\n')\n",
    "with open(\"Subm-Model3.csv\",'a') as f:\n",
    "    for num, data in enumerate(test_data):\n",
    "        if num%1000 == 0: print('write {} line'.format(num))\n",
    "        img_num = data[1]\n",
    "        img_data = data[0]\n",
    "        orig = img_data\n",
    "        data = img_data.reshape(IMG_SIZE, IMG_SIZE,1)\n",
    "        model_out = model.predict([data])[0]\n",
    "        f.write('{},{}\\n'.format(img_num, model_out[0]))\n",
    "print('done')"
   ]
  },
  {
   "cell_type": "markdown",
   "metadata": {},
   "source": [
    "## Model 4\n",
    "\n",
    "In this model, we will use 6 hidden layers composed of 32, 64, 96, 128, 160, and 192 nodes. The rest of the structure remains unchanged from the previous model. The accuracy of the training and validation set are displayed, along with the total execution time. The resulting prediction is stored in a CSV file to be uploaded in Kaggle for testing."
   ]
  },
  {
   "cell_type": "code",
   "execution_count": 15,
   "metadata": {},
   "outputs": [
    {
     "name": "stdout",
     "output_type": "stream",
     "text": [
      "Training Step: 3519  | total loss: \u001b[1m\u001b[32m0.15272\u001b[0m\u001b[0m | time: 61.266s\n",
      "| Adam | epoch: 010 | loss: 0.15272 - acc: 0.9415 -- iter: 22464/22500\n",
      "Training Step: 3520  | total loss: \u001b[1m\u001b[32m0.15669\u001b[0m\u001b[0m | time: 62.962s\n",
      "| Adam | epoch: 010 | loss: 0.15669 - acc: 0.9380 | val_loss: 0.42449 - val_acc: 0.8420 -- iter: 22500/22500\n",
      "--\n",
      "Duration in minutes: 33.18\n",
      "Validation accuracy : [0.8420000003814697]\n"
     ]
    }
   ],
   "source": [
    "###### Model 4\n",
    "print('Model 4')\n",
    "\n",
    "# Reset the session\n",
    "tf.reset_default_graph()\n",
    "tf.set_random_seed(RANDOM_SEED)\n",
    "np.random.seed(RANDOM_SEED)\n",
    "\n",
    "MODEL_NAME = \"Model4{}-{}.model\".format(LR, '7conv')\n",
    "\n",
    "# Start timer\n",
    "start = time.clock()\n",
    "\n",
    "convnet = input_data(shape=[None, IMG_SIZE, IMG_SIZE, 1], name='input')\n",
    "\n",
    "convnet = conv_2d(convnet, 32, 2, activation='relu')\n",
    "convnet = max_pool_2d(convnet, 2)\n",
    "\n",
    "convnet = conv_2d(convnet, 64, 2, activation='relu')\n",
    "convnet = max_pool_2d(convnet, 2)\n",
    "\n",
    "convnet = conv_2d(convnet, 96, 2, activation='relu')\n",
    "convnet = max_pool_2d(convnet, 2)\n",
    "\n",
    "convnet = conv_2d(convnet, 128, 2, activation='relu')\n",
    "convnet = max_pool_2d(convnet, 2)\n",
    "\n",
    "convnet = conv_2d(convnet, 160, 2, activation='relu')\n",
    "convnet = max_pool_2d(convnet, 2)\n",
    "\n",
    "convnet = conv_2d(convnet, 192, 2, activation='relu')\n",
    "convnet = max_pool_2d(convnet, 2)\n",
    "\n",
    "convnet = fully_connected(convnet, 1024, activation='relu')\n",
    "convnet = dropout(convnet, 0.8)\n",
    "\n",
    "convnet = fully_connected(convnet, 2, activation='softmax')\n",
    "convnet = regression(convnet, optimizer='adam', learning_rate=LR, loss='categorical_crossentropy', name='targets')\n",
    "\n",
    "model = tflearn.DNN(convnet, tensorboard_dir='log') \n",
    "\n",
    "train = training_data[:(TRAIN_SIZE-VAL_SIZE)]\n",
    "train2 = training_data[:TRAIN_SIZE]\n",
    "val = train2[-VAL_SIZE:]\n",
    "# test = training_data[-TEST_SIZE:]\n",
    "\n",
    "\n",
    "X = np.array([i[0] for i in train]).reshape(-1, IMG_SIZE, IMG_SIZE, 1)\n",
    "Y = np.array([i[1] for i in train])\n",
    "x_val = np.array([i[0] for i in val]).reshape(-1, IMG_SIZE, IMG_SIZE, 1)\n",
    "y_val = np.array([i[1] for i in val])\n",
    "\n",
    "# X_test = np.array([i[0] for i in test]).reshape(-1, IMG_SIZE, IMG_SIZE, 1)\n",
    "# y_test = np.array([i[1] for i in test])\n",
    "\n",
    "    \n",
    "model.fit({'input': X}, {'targets': Y}, n_epoch=N_EPOCH, validation_set=({'input': x_val}, {'targets': y_val}), \n",
    "    snapshot_step=500, show_metric=True, run_id=MODEL_NAME)\n",
    "\n",
    "# Record the clock time it takes\n",
    "duration = round((time.clock() - start ) / 60, 2)\n",
    "print('Duration in minutes:', duration)\n",
    "\n",
    "acc_val  = model.evaluate(x_val, y_val)\n",
    "print('Validation accuracy :', acc_val)\n",
    "\n",
    "# acc_test  = model.evaluate(X_test, y_test)\n",
    "\n",
    "metrics['Model 4 64x64'] = [N_EPOCH,'6 layers, funnel', duration, acc_val]\n",
    "\n"
   ]
  },
  {
   "cell_type": "code",
   "execution_count": 16,
   "metadata": {},
   "outputs": [
    {
     "name": "stdout",
     "output_type": "stream",
     "text": [
      "write 0 line\n",
      "write 1000 line\n",
      "write 2000 line\n",
      "write 3000 line\n",
      "write 4000 line\n",
      "write 5000 line\n",
      "write 6000 line\n",
      "write 7000 line\n",
      "write 8000 line\n",
      "write 9000 line\n",
      "write 10000 line\n",
      "write 11000 line\n",
      "write 12000 line\n",
      "done\n"
     ]
    }
   ],
   "source": [
    "with open(\"Subm-Model4.csv\",'w') as f:\n",
    "    f.write('id,label\\n')\n",
    "with open(\"Subm-Model4.csv\",'a') as f:\n",
    "    for num, data in enumerate(test_data):\n",
    "        if num%1000 == 0: print('write {} line'.format(num))\n",
    "        img_num = data[1]\n",
    "        img_data = data[0]\n",
    "        orig = img_data\n",
    "        data = img_data.reshape(IMG_SIZE, IMG_SIZE,1)\n",
    "        model_out = model.predict([data])[0]\n",
    "        f.write('{},{}\\n'.format(img_num, model_out[0]))\n",
    "print('done')"
   ]
  },
  {
   "cell_type": "markdown",
   "metadata": {},
   "source": [
    "## Benchmark results.\n",
    "\n",
    "In the below table, a summary of the 4 models, their characteristics, and performances are shown."
   ]
  },
  {
   "cell_type": "code",
   "execution_count": 17,
   "metadata": {},
   "outputs": [],
   "source": [
    "\n",
    "# Convert metrics dictionary to dataframe for display\n",
    "results_summary = pd.DataFrame.from_dict(metrics, orient='index')\n",
    "results_summary.columns = names\n",
    "\n",
    "# Sort by model number\n",
    "results_summary.reset_index(inplace=True)\n",
    "results_summary.sort_values(by=['index'], axis=0, inplace=True)\n",
    "results_summary.set_index(['index'], inplace=True)\n",
    "results_summary.index.name = None"
   ]
  },
  {
   "cell_type": "code",
   "execution_count": 18,
   "metadata": {},
   "outputs": [],
   "source": [
    "mod4_results_summary = results_summary"
   ]
  },
  {
   "cell_type": "code",
   "execution_count": 19,
   "metadata": {},
   "outputs": [
    {
     "data": {
      "text/html": [
       "<div>\n",
       "<style scoped>\n",
       "    .dataframe tbody tr th:only-of-type {\n",
       "        vertical-align: middle;\n",
       "    }\n",
       "\n",
       "    .dataframe tbody tr th {\n",
       "        vertical-align: top;\n",
       "    }\n",
       "\n",
       "    .dataframe thead th {\n",
       "        text-align: right;\n",
       "    }\n",
       "</style>\n",
       "<table border=\"1\" class=\"dataframe\">\n",
       "  <thead>\n",
       "    <tr style=\"text-align: right;\">\n",
       "      <th></th>\n",
       "      <th>Model number</th>\n",
       "      <th>Nodes per Layer</th>\n",
       "      <th>Time in Seconds</th>\n",
       "      <th>Validation accuracy</th>\n",
       "    </tr>\n",
       "  </thead>\n",
       "  <tbody>\n",
       "    <tr>\n",
       "      <th>Model 1 64x64</th>\n",
       "      <td>10</td>\n",
       "      <td>3 layears, 64 nodes flat</td>\n",
       "      <td>45.08</td>\n",
       "      <td>[0.8248000001907348]</td>\n",
       "    </tr>\n",
       "    <tr>\n",
       "      <th>Model 2 64x64</th>\n",
       "      <td>10</td>\n",
       "      <td>6 layears, pyramid</td>\n",
       "      <td>34.51</td>\n",
       "      <td>[0.8179999999046326]</td>\n",
       "    </tr>\n",
       "    <tr>\n",
       "      <th>Model 3 64x64</th>\n",
       "      <td>10</td>\n",
       "      <td>6 layears, 32 nodes flat</td>\n",
       "      <td>21.17</td>\n",
       "      <td>[0.7939999996185303]</td>\n",
       "    </tr>\n",
       "    <tr>\n",
       "      <th>Model 4 64x64</th>\n",
       "      <td>10</td>\n",
       "      <td>6 layears, funnel</td>\n",
       "      <td>33.18</td>\n",
       "      <td>[0.8420000003814697]</td>\n",
       "    </tr>\n",
       "  </tbody>\n",
       "</table>\n",
       "</div>"
      ],
      "text/plain": [
       "               Model number           Nodes per Layer  Time in Seconds  \\\n",
       "Model 1 64x64            10  3 layears, 64 nodes flat            45.08   \n",
       "Model 2 64x64            10        6 layears, pyramid            34.51   \n",
       "Model 3 64x64            10  6 layears, 32 nodes flat            21.17   \n",
       "Model 4 64x64            10         6 layears, funnel            33.18   \n",
       "\n",
       "                Validation accuracy  \n",
       "Model 1 64x64  [0.8248000001907348]  \n",
       "Model 2 64x64  [0.8179999999046326]  \n",
       "Model 3 64x64  [0.7939999996185303]  \n",
       "Model 4 64x64  [0.8420000003814697]  "
      ]
     },
     "execution_count": 19,
     "metadata": {},
     "output_type": "execute_result"
    }
   ],
   "source": [
    "mod4_results_summary "
   ]
  },
  {
   "cell_type": "code",
   "execution_count": null,
   "metadata": {},
   "outputs": [],
   "source": [
    "Kaggle scores and model selection"
   ]
  },
  {
   "cell_type": "markdown",
   "metadata": {},
   "source": [
    "Model 1 score: 0.58372\n",
    "Model 2 score: 0.52414\n",
    "Model 3 score: 0.44403\n",
    "Model 4 score: 0.46368\n",
    "\n",
    "Model 4 has better performance in terms of accuracy. Modeel 4 has better processing time in respect to the one with similar accuracy and the kaggle score is 2nd best, so we will select it for further testing and improvements."
   ]
  },
  {
   "cell_type": "markdown",
   "metadata": {},
   "source": [
    "## Model 5\n",
    "\n",
    "We will now use the best model obtained in the previous testing applied on grayscale images of 128x128, keeping the number of epoch to 10 to avoid overfitting."
   ]
  },
  {
   "cell_type": "code",
   "execution_count": 20,
   "metadata": {},
   "outputs": [
    {
     "name": "stderr",
     "output_type": "stream",
     "text": [
      "100%|██████████| 25000/25000 [01:28<00:00, 282.85it/s]\n",
      "100%|██████████| 12500/12500 [00:50<00:00, 247.24it/s]\n"
     ]
    }
   ],
   "source": [
    "\n",
    "TRAIN_DIR = './data/train/'\n",
    "TEST_DIR = './data/test/'\n",
    "IMG_SIZE = 128\n",
    "\n",
    "training_data = create_training_data()\n",
    "#training_data = np.load('training_data.npy')\n",
    "test_data = process_test_data()"
   ]
  },
  {
   "cell_type": "code",
   "execution_count": 21,
   "metadata": {},
   "outputs": [
    {
     "data": {
      "text/plain": [
       "<matplotlib.image.AxesImage at 0x1beb037898>"
      ]
     },
     "execution_count": 21,
     "metadata": {},
     "output_type": "execute_result"
    },
    {
     "data": {
      "image/png": "[encoded data removed]",
      "text/plain": [
       "<Figure size 432x288 with 1 Axes>"
      ]
     },
     "metadata": {
      "needs_background": "light"
     },
     "output_type": "display_data"
    }
   ],
   "source": [
    "fig=plt.figure()\n",
    "\n",
    "image1 = training_data[1]\n",
    "\n",
    "\n",
    "plt.imshow(image1[0],cmap='gray')\n"
   ]
  },
  {
   "cell_type": "code",
   "execution_count": 22,
   "metadata": {},
   "outputs": [
    {
     "name": "stdout",
     "output_type": "stream",
     "text": [
      "Training Step: 3519  | total loss: \u001b[1m\u001b[32m0.07428\u001b[0m\u001b[0m | time: 232.700s\n",
      "| Adam | epoch: 010 | loss: 0.07428 - acc: 0.9788 -- iter: 22464/22500\n",
      "Training Step: 3520  | total loss: \u001b[1m\u001b[32m0.07111\u001b[0m\u001b[0m | time: 239.187s\n",
      "| Adam | epoch: 010 | loss: 0.07111 - acc: 0.9793 | val_loss: 0.30203 - val_acc: 0.9036 -- iter: 22500/22500\n",
      "--\n",
      "Duration in minutes: 124.86\n",
      "Validation accuracy : [0.9036000000953675]\n"
     ]
    }
   ],
   "source": [
    "###### Model 5\n",
    "print('Model 5')\n",
    "\n",
    "N_EPOCH = 10\n",
    "\n",
    "# Reset the session\n",
    "tf.reset_default_graph()\n",
    "tf.set_random_seed(RANDOM_SEED)\n",
    "np.random.seed(RANDOM_SEED)\n",
    "\n",
    "MODEL_NAME = \"Model4{}-{}.model\".format(LR, '7conv')\n",
    "\n",
    "# Start timer\n",
    "start = time.clock()\n",
    "\n",
    "convnet = input_data(shape=[None, IMG_SIZE, IMG_SIZE, 1], name='input')\n",
    "\n",
    "convnet = conv_2d(convnet, 32, 2, activation='relu')\n",
    "convnet = max_pool_2d(convnet, 2)\n",
    "\n",
    "convnet = conv_2d(convnet, 64, 2, activation='relu')\n",
    "convnet = max_pool_2d(convnet, 2)\n",
    "\n",
    "convnet = conv_2d(convnet, 96, 2, activation='relu')\n",
    "convnet = max_pool_2d(convnet, 2)\n",
    "\n",
    "convnet = conv_2d(convnet, 128, 2, activation='relu')\n",
    "convnet = max_pool_2d(convnet, 2)\n",
    "\n",
    "convnet = conv_2d(convnet, 160, 2, activation='relu')\n",
    "convnet = max_pool_2d(convnet, 2)\n",
    "\n",
    "convnet = conv_2d(convnet, 192, 2, activation='relu')\n",
    "convnet = max_pool_2d(convnet, 2)\n",
    "\n",
    "convnet = fully_connected(convnet, 1024, activation='relu')\n",
    "convnet = dropout(convnet, 0.8)\n",
    "\n",
    "convnet = fully_connected(convnet, 2, activation='softmax')\n",
    "convnet = regression(convnet, optimizer='adam', learning_rate=LR, loss='categorical_crossentropy', name='targets')\n",
    "\n",
    "model = tflearn.DNN(convnet, tensorboard_dir='log') \n",
    "\n",
    "train = training_data[:(TRAIN_SIZE-VAL_SIZE)]\n",
    "train2 = training_data[:TRAIN_SIZE]\n",
    "val = train2[-VAL_SIZE:]\n",
    "# test = training_data[-TEST_SIZE:]\n",
    "\n",
    "\n",
    "X = np.array([i[0] for i in train]).reshape(-1, IMG_SIZE, IMG_SIZE, 1)\n",
    "Y = np.array([i[1] for i in train])\n",
    "x_val = np.array([i[0] for i in val]).reshape(-1, IMG_SIZE, IMG_SIZE, 1)\n",
    "y_val = np.array([i[1] for i in val])\n",
    "\n",
    "# X_test = np.array([i[0] for i in test]).reshape(-1, IMG_SIZE, IMG_SIZE, 1)\n",
    "# y_test = np.array([i[1] for i in test])\n",
    "\n",
    "    \n",
    "model.fit({'input': X}, {'targets': Y}, n_epoch=N_EPOCH, validation_set=({'input': x_val}, {'targets': y_val}), \n",
    "    snapshot_step=500, show_metric=True, run_id=MODEL_NAME)\n",
    "\n",
    "# Record the clock time it takes\n",
    "duration = round((time.clock() - start ) / 60, 2)\n",
    "print('Duration in minutes:', duration)\n",
    "\n",
    "acc_val  = model.evaluate(x_val, y_val)\n",
    "print('Validation accuracy :', acc_val)\n",
    "\n",
    "#acc_test  = model.evaluate(X_test, y_test)\n",
    "\n",
    "metrics['Model 5 128x128'] = [N_EPOCH,'6 layers, funnel', duration, acc_val]"
   ]
  },
  {
   "cell_type": "code",
   "execution_count": 23,
   "metadata": {},
   "outputs": [
    {
     "name": "stdout",
     "output_type": "stream",
     "text": [
      "write 0 line\n",
      "write 1000 line\n",
      "write 2000 line\n",
      "write 3000 line\n",
      "write 4000 line\n",
      "write 5000 line\n",
      "write 6000 line\n",
      "write 7000 line\n",
      "write 8000 line\n",
      "write 9000 line\n",
      "write 10000 line\n",
      "write 11000 line\n",
      "write 12000 line\n",
      "done\n"
     ]
    }
   ],
   "source": [
    "with open(\"Subm-Model5.csv\",'w') as f:\n",
    "    f.write('id,label\\n')\n",
    "with open(\"Subm-Model5.csv\",'a') as f:\n",
    "    for num, data in enumerate(test_data):\n",
    "        if num%1000 == 0: print('write {} line'.format(num))\n",
    "        img_num = data[1]\n",
    "        img_data = data[0]\n",
    "        orig = img_data\n",
    "        data = img_data.reshape(IMG_SIZE, IMG_SIZE,1)\n",
    "        model_out = model.predict([data])[0]\n",
    "        f.write('{},{}\\n'.format(img_num, model_out[0]))\n",
    "print('done')"
   ]
  },
  {
   "cell_type": "markdown",
   "metadata": {},
   "source": [
    "## Model 6\n",
    "\n",
    "To further improve the algorithm, droputs layers and funnel strucutre is used for a final test.\n",
    "We will now use the best model obtained in the previous testing applied on grayscale images of 128x128, keeping the number of epoch to 10 to avoid overfitting. The filter size is 3x3 instead of 2x2."
   ]
  },
  {
   "cell_type": "code",
   "execution_count": 88,
   "metadata": {},
   "outputs": [
    {
     "name": "stdout",
     "output_type": "stream",
     "text": [
      "Training Step: 5279  | total loss: \u001b[1m\u001b[32m0.08376\u001b[0m\u001b[0m | time: 1086.247s\n",
      "| Adam | epoch: 015 | loss: 0.08376 - acc: 0.9834 -- iter: 22464/22500\n",
      "Training Step: 5280  | total loss: \u001b[1m\u001b[32m0.07680\u001b[0m\u001b[0m | time: 1120.800s\n",
      "| Adam | epoch: 015 | loss: 0.07680 - acc: 0.9851 | val_loss: 0.45564 - val_acc: 0.8876 -- iter: 22500/22500\n",
      "--\n",
      "Duration in minutes: 949.44\n",
      "Validation accuracy : [0.8875999992370606]\n"
     ]
    }
   ],
   "source": [
    "###### Model 6\n",
    "print('Model 6')\n",
    "\n",
    "\n",
    "N_EPOCH = 15\n",
    "\n",
    "# Reset the session\n",
    "tf.reset_default_graph()\n",
    "tf.set_random_seed(RANDOM_SEED)\n",
    "np.random.seed(RANDOM_SEED)\n",
    "\n",
    "MODEL_NAME = \"Model6{}-{}.model\".format(LR, '6conv_4droput')\n",
    "\n",
    "# Start timer\n",
    "start = time.clock()\n",
    "\n",
    "convnet = input_data(shape=[None, IMG_SIZE, IMG_SIZE, 1], name='input')\n",
    "\n",
    "convnet = conv_2d(convnet, 32, 3, activation='relu')\n",
    "convnet = conv_2d(convnet, 32, 3, activation='relu')\n",
    "convnet = max_pool_2d(convnet, 2)\n",
    "convnet = dropout(convnet, 0.8)\n",
    "\n",
    "convnet = conv_2d(convnet, 64, 3, activation='relu')\n",
    "convnet = conv_2d(convnet, 64, 3, activation='relu')\n",
    "convnet = max_pool_2d(convnet, 2)\n",
    "convnet = dropout(convnet, 0.8)\n",
    "\n",
    "convnet = conv_2d(convnet, 128, 3, activation='relu')\n",
    "convnet = conv_2d(convnet, 128, 3, activation='relu')\n",
    "convnet = max_pool_2d(convnet, 2)\n",
    "convnet = dropout(convnet, 0.8)\n",
    "\n",
    "convnet = fully_connected(convnet, 1024, activation='relu')\n",
    "convnet = dropout(convnet, 0.8)\n",
    "\n",
    "convnet = fully_connected(convnet, 2, activation='softmax')\n",
    "convnet = regression(convnet, optimizer='adam', learning_rate=LR, loss='categorical_crossentropy', name='targets')\n",
    "\n",
    "model = tflearn.DNN(convnet, tensorboard_dir='log') \n",
    "\n",
    "train = training_data[:(TRAIN_SIZE-VAL_SIZE)]\n",
    "train2 = training_data[:TRAIN_SIZE]\n",
    "val = train2[-VAL_SIZE:]\n",
    "#test = training_data[-TEST_SIZE:]\n",
    "\n",
    "\n",
    "X = np.array([i[0] for i in train]).reshape(-1, IMG_SIZE, IMG_SIZE, 1)\n",
    "Y = np.array([i[1] for i in train])\n",
    "x_val = np.array([i[0] for i in val]).reshape(-1, IMG_SIZE, IMG_SIZE, 1)\n",
    "y_val = np.array([i[1] for i in val])\n",
    "\n",
    "#X_test = np.array([i[0] for i in test]).reshape(-1, IMG_SIZE, IMG_SIZE, 1)\n",
    "# y_test = np.array([i[1] for i in test])\n",
    "\n",
    "    \n",
    "model.fit({'input': X}, {'targets': Y}, n_epoch=N_EPOCH, validation_set=({'input': x_val}, {'targets': y_val}), \n",
    "    snapshot_step=500, show_metric=True, run_id=MODEL_NAME)\n",
    "\n",
    "# Record the clock time it takes\n",
    "duration = round((time.clock() - start ) / 60, 2)\n",
    "print('Duration in minutes:', duration)\n",
    "\n",
    "acc_val  = model.evaluate(x_val, y_val)\n",
    "print('Validation accuracy :', acc_val)\n",
    "#acc_test  = model.evaluate(X_test, y_test)\n",
    "\n",
    "\n",
    "metrics['Model 6 128x128'] = [N_EPOCH,'6 layers, funnel dropout', duration, acc_val]"
   ]
  },
  {
   "cell_type": "code",
   "execution_count": 89,
   "metadata": {},
   "outputs": [
    {
     "name": "stdout",
     "output_type": "stream",
     "text": [
      "write 0 line\n",
      "write 1000 line\n",
      "write 2000 line\n",
      "write 3000 line\n",
      "write 4000 line\n",
      "write 5000 line\n",
      "write 6000 line\n",
      "write 7000 line\n",
      "write 8000 line\n",
      "write 9000 line\n",
      "write 10000 line\n",
      "write 11000 line\n",
      "write 12000 line\n",
      "done\n"
     ]
    }
   ],
   "source": [
    "with open(\"Subm-Model6.csv\",'w') as f:\n",
    "    f.write('id,label\\n')\n",
    "with open(\"Subm-Model6.csv\",'a') as f:\n",
    "    for num, data in enumerate(test_data):\n",
    "        if num%1000 == 0: print('write {} line'.format(num))\n",
    "        img_num = data[1]\n",
    "        img_data = data[0]\n",
    "        orig = img_data\n",
    "        data = img_data.reshape(IMG_SIZE, IMG_SIZE,1)\n",
    "        model_out = model.predict([data])[0]\n",
    "        f.write('{},{}\\n'.format(img_num, model_out[0]))\n",
    "print('done')"
   ]
  },
  {
   "cell_type": "markdown",
   "metadata": {},
   "source": [
    "# Benchmark results for all models.\n",
    "\n",
    "In the below table, a summary of the models, their characteristics, and performances are shown."
   ]
  },
  {
   "cell_type": "code",
   "execution_count": 84,
   "metadata": {},
   "outputs": [],
   "source": [
    "\n",
    "# Convert metrics dictionary to dataframe for display\n",
    "results_summary = pd.DataFrame.from_dict(metrics, orient='index')\n",
    "results_summary.columns = names\n",
    "\n",
    "# Sort by model number\n",
    "results_summary.reset_index(inplace=True)\n",
    "results_summary.sort_values(by=['index'], axis=0, inplace=True)\n",
    "results_summary.set_index(['index'], inplace=True)\n",
    "results_summary.index.name = None"
   ]
  },
  {
   "cell_type": "code",
   "execution_count": 85,
   "metadata": {},
   "outputs": [],
   "source": [
    "tot_results_summary = results_summary"
   ]
  },
  {
   "cell_type": "code",
   "execution_count": 86,
   "metadata": {},
   "outputs": [
    {
     "data": {
      "text/html": [
       "<div>\n",
       "<style scoped>\n",
       "    .dataframe tbody tr th:only-of-type {\n",
       "        vertical-align: middle;\n",
       "    }\n",
       "\n",
       "    .dataframe tbody tr th {\n",
       "        vertical-align: top;\n",
       "    }\n",
       "\n",
       "    .dataframe thead th {\n",
       "        text-align: right;\n",
       "    }\n",
       "</style>\n",
       "<table border=\"1\" class=\"dataframe\">\n",
       "  <thead>\n",
       "    <tr style=\"text-align: right;\">\n",
       "      <th></th>\n",
       "      <th>Model number</th>\n",
       "      <th>Nodes per Layer</th>\n",
       "      <th>Time in Seconds</th>\n",
       "      <th>Validation accuracy</th>\n",
       "    </tr>\n",
       "  </thead>\n",
       "  <tbody>\n",
       "    <tr>\n",
       "      <th>Model 1 64x64</th>\n",
       "      <td>10</td>\n",
       "      <td>6 layers, 64 nodes flat</td>\n",
       "      <td>45.08</td>\n",
       "      <td>[0.8248000001907348]</td>\n",
       "    </tr>\n",
       "    <tr>\n",
       "      <th>Model 2 64x64</th>\n",
       "      <td>10</td>\n",
       "      <td>6 layers, pyramid</td>\n",
       "      <td>34.51</td>\n",
       "      <td>[0.8179999999046326]</td>\n",
       "    </tr>\n",
       "    <tr>\n",
       "      <th>Model 3 64x64</th>\n",
       "      <td>10</td>\n",
       "      <td>6 layers, 32 nodes flat</td>\n",
       "      <td>21.17</td>\n",
       "      <td>[0.7939999996185303]</td>\n",
       "    </tr>\n",
       "    <tr>\n",
       "      <th>Model 4 64x64</th>\n",
       "      <td>10</td>\n",
       "      <td>6 layers, funnel</td>\n",
       "      <td>33.18</td>\n",
       "      <td>[0.8420000003814697]</td>\n",
       "    </tr>\n",
       "    <tr>\n",
       "      <th>Model 5 128x128</th>\n",
       "      <td>10</td>\n",
       "      <td>6 layers, funnel</td>\n",
       "      <td>124.86</td>\n",
       "      <td>[0.9036000000953675]</td>\n",
       "    </tr>\n",
       "    <tr>\n",
       "      <th>Model 6 128x128</th>\n",
       "      <td>10</td>\n",
       "      <td>6 layers, funnel dropout</td>\n",
       "      <td>578.00</td>\n",
       "      <td>[0.8764000004768372]</td>\n",
       "    </tr>\n",
       "  </tbody>\n",
       "</table>\n",
       "</div>"
      ],
      "text/plain": [
       "                 Model number           Nodes per Layer  Time in Seconds  \\\n",
       "Model 1 64x64              10   6 layers, 64 nodes flat            45.08   \n",
       "Model 2 64x64              10         6 layers, pyramid            34.51   \n",
       "Model 3 64x64              10   6 layers, 32 nodes flat            21.17   \n",
       "Model 4 64x64              10          6 layers, funnel            33.18   \n",
       "Model 5 128x128            10          6 layers, funnel           124.86   \n",
       "Model 6 128x128            10  6 layers, funnel dropout           578.00   \n",
       "\n",
       "                  Validation accuracy  \n",
       "Model 1 64x64    [0.8248000001907348]  \n",
       "Model 2 64x64    [0.8179999999046326]  \n",
       "Model 3 64x64    [0.7939999996185303]  \n",
       "Model 4 64x64    [0.8420000003814697]  \n",
       "Model 5 128x128  [0.9036000000953675]  \n",
       "Model 6 128x128  [0.8764000004768372]  "
      ]
     },
     "execution_count": 86,
     "metadata": {},
     "output_type": "execute_result"
    }
   ],
   "source": [
    "tot_results_summary"
   ]
  },
  {
   "cell_type": "markdown",
   "metadata": {},
   "source": [
    "# Conclusions\n",
    "\n",
    "Model 1 score: 0.58372\n",
    "Model 2 score: 0.52414\n",
    "Model 3 score: 0.44403\n",
    "Model 4 score: 0.46368\n",
    "Model 5 score: 0.38238\n",
    "Model 6 score: 0.42949\n",
    "\n",
    "kaggle user di: Vittorio Pepe\n",
    "\n",
    "The best models on the test set are Model 5 and Model 6. Model 6 is very similar to Model 5,and a larger number of epoch would probably give better accuracy results.\n",
    "\n",
    "Confronting with the other models, increasing the number of layers increase the accuracy of the model. \n",
    "The model with the number of nodes per layers increasing (like a funnel) seems to have a better overall performance.  \n",
    "Increasing the resolution of the pictures improve the accuracy too.\n",
    "All models are strongly affected by the size of the training dataset: a larger dataset ensures a better accuracy.\n",
    "The execution times can be quite long, so powerfull CPU/GPU should be used.\n",
    "\n",
    " "
   ]
  },
  {
   "cell_type": "code",
   "execution_count": null,
   "metadata": {},
   "outputs": [],
   "source": []
  }
 ],
 "metadata": {
  "celltoolbar": "Raw Cell Format",
  "kernelspec": {
   "display_name": "Python 3",
   "language": "python",
   "name": "python3"
  },
  "language_info": {
   "codemirror_mode": {
    "name": "ipython",
    "version": 3
   },
   "file_extension": ".py",
   "mimetype": "text/x-python",
   "name": "python",
   "nbconvert_exporter": "python",
   "pygments_lexer": "ipython3",
   "version": "3.6.10"
  }
 },
 "nbformat": 4,
 "nbformat_minor": 2
}
